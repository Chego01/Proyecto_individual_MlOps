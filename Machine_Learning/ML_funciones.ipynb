{
 "cells": [
  {
   "cell_type": "code",
   "execution_count": 15,
   "metadata": {},
   "outputs": [],
   "source": [
    "import pandas as pd \n",
    "from sklearn.feature_extraction.text import TfidfVectorizer\n",
    "from sklearn.metrics.pairwise import cosine_similarity\n",
    "from sklearn.model_selection import train_test_split\n",
    "from sklearn.ensemble import RandomForestClassifier\n",
    "from sklearn.metrics import accuracy_score"
   ]
  },
  {
   "cell_type": "code",
   "execution_count": 6,
   "metadata": {},
   "outputs": [],
   "source": [
    "data = pd.read_csv('C:\\\\Users\\\\User\\\\PI_ML_OPS\\\\EDA\\\\data_merged.csv')\n",
    "data_steam_juegos = data.copy()\n",
    "data_random_forest = data.copy()"
   ]
  },
  {
   "cell_type": "code",
   "execution_count": 8,
   "metadata": {},
   "outputs": [],
   "source": [
    "data_steam_juegos.drop(['Id','Id_user','Developer','Genres','Posted','Sentiment_analysis','Recommend','Price','Playtime_forever','Release_date'],axis=1,inplace=True)\n",
    "data.drop(['Id','Id_user','Genres','Posted','Sentiment_analysis','Recommend','Price','Playtime_forever'],axis=1,inplace=True)\n",
    "\n"
   ]
  },
  {
   "cell_type": "code",
   "execution_count": 9,
   "metadata": {},
   "outputs": [
    {
     "name": "stdout",
     "output_type": "stream",
     "text": [
      "<class 'pandas.core.frame.DataFrame'>\n",
      "RangeIndex: 32514 entries, 0 to 32513\n",
      "Data columns (total 4 columns):\n",
      " #   Column        Non-Null Count  Dtype  \n",
      "---  ------        --------------  -----  \n",
      " 0   Id_item       32514 non-null  int64  \n",
      " 1   App_name      32514 non-null  object \n",
      " 2   Developer     32514 non-null  object \n",
      " 3   Release_date  32514 non-null  float64\n",
      "dtypes: float64(1), int64(1), object(2)\n",
      "memory usage: 1016.2+ KB\n"
     ]
    }
   ],
   "source": [
    "data.info()"
   ]
  },
  {
   "cell_type": "code",
   "execution_count": 10,
   "metadata": {},
   "outputs": [
    {
     "name": "stdout",
     "output_type": "stream",
     "text": [
      "<class 'pandas.core.frame.DataFrame'>\n",
      "RangeIndex: 32514 entries, 0 to 32513\n",
      "Data columns (total 2 columns):\n",
      " #   Column    Non-Null Count  Dtype \n",
      "---  ------    --------------  ----- \n",
      " 0   Id_item   32514 non-null  int64 \n",
      " 1   App_name  32514 non-null  object\n",
      "dtypes: int64(1), object(1)\n",
      "memory usage: 508.2+ KB\n"
     ]
    }
   ],
   "source": [
    "data_steam_juegos.info()"
   ]
  },
  {
   "cell_type": "code",
   "execution_count": 11,
   "metadata": {},
   "outputs": [],
   "source": [
    "data['Id_item'] = data['Id_item'].astype(str)\n",
    "data['Release_date'] = data['Release_date'].astype(str)\n",
    "# borrando duplicados\n",
    "data = data.drop_duplicates(subset='Id_item', keep='first')\n",
    "data_steam_juegos = data_steam_juegos.drop_duplicates(subset='Id_item', keep='first')\n",
    "data['Especificaciones'] = data[['App_name','Developer','Release_date']].apply(lambda x: ', '.join(x), axis=1)\n",
    "data.drop(['App_name','Developer','Release_date'],axis=1,inplace=True)\n",
    "\n",
    "data.to_csv('C:\\\\Users\\\\User\\\\PI_ML_OPS\\\\Machine_Learning\\\\steam_juegos.csv', index=False)\n",
    "data_steam_juegos.to_csv('C:\\\\Users\\\\User\\\\PI_ML_OPS\\\\Machine_Learning\\\\steam_id.csv', index=False)\n"
   ]
  },
  {
   "cell_type": "markdown",
   "metadata": {},
   "source": [
    "Ingresando el id de producto, deberíamos recibir una lista con 5 juegos recomendados similares al ingresado."
   ]
  },
  {
   "cell_type": "code",
   "execution_count": 12,
   "metadata": {},
   "outputs": [
    {
     "name": "stdout",
     "output_type": "stream",
     "text": [
      "{'mensaje': 'Debido a que te gusta el juego 22000 : World of Goo, estoy seguro que te gustarán los siguientes juegos', 'Recomendaciones de juegos': ['Grey Goo', 'Stellar 2D', 'Call of Duty: World at War', 'S.T.A.L.K.E.R.: Clear Sky', 'Awesomenauts - the 2D moba']}\n"
     ]
    }
   ],
   "source": [
    "import pandas as pd\n",
    "from sklearn.feature_extraction.text import TfidfVectorizer\n",
    "from sklearn.metrics.pairwise import cosine_similarity\n",
    "\n",
    "def recomendacion_juego(Id_item):\n",
    "    try:\n",
    "        # Cargar datos\n",
    "        data = pd.read_csv('C:\\\\Users\\\\User\\\\PI_ML_OPS\\\\Machine_Learning\\\\steam_juegos.csv')\n",
    "        data_steam_juegos = pd.read_csv('C:\\\\Users\\\\User\\\\PI_ML_OPS\\\\Machine_Learning\\\\steam_id.csv')\n",
    "\n",
    "        # Verificar si el Id_item existe en el conjunto de datos\n",
    "        if Id_item not in data['Id_item'].values:\n",
    "            raise ValueError(f\"El Id_item {Id_item} no existe en el conjunto de datos.\")\n",
    "\n",
    "        # Crear matriz TF-IDF usando la columna Especificaciones\n",
    "        matriz = TfidfVectorizer(min_df=1, max_df=0.8, token_pattern=r'(?u)\\b\\w\\w+\\b')\n",
    "        vector = matriz.fit_transform(data['Especificaciones'])\n",
    "        df_vector = pd.DataFrame(vector.toarray(), index=data['Id_item'], columns=matriz.get_feature_names_out())\n",
    "\n",
    "        # Calcular similitud de coseno\n",
    "        vector_similitud_coseno = cosine_similarity(df_vector.values)\n",
    "        cos_similarity_df = pd.DataFrame(vector_similitud_coseno, index=df_vector.index, columns=df_vector.index)\n",
    "\n",
    "        # Verificar si el Id_item tiene similitud con otros juegos\n",
    "        if Id_item not in cos_similarity_df.index:\n",
    "            raise ValueError(f\"No hay juegos similares al Id_item {Id_item}.\")\n",
    "\n",
    "        # Obtener recomendaciones y realizar operaciones\n",
    "        recomendacion_juego = cos_similarity_df.loc[Id_item]\n",
    "        recomendacion = recomendacion_juego.sort_values(ascending=False)\n",
    "        resultado = recomendacion.head(6).reset_index()\n",
    "        df_resultado = resultado.merge(data_steam_juegos, on='Id_item', how='left')\n",
    "\n",
    "        # Verificar si el Id_item existe en el conjunto de datos de steam_id\n",
    "        if Id_item not in data_steam_juegos['Id_item'].values:\n",
    "            raise ValueError(f\"El Id_item {Id_item} no existe en el conjunto de datos de steam_id.\")\n",
    "\n",
    "        # Obtener nombre del juego\n",
    "        nombre_juego = data_steam_juegos[data_steam_juegos['Id_item'] == Id_item]['App_name'].values[0]\n",
    "\n",
    "        # Crear mensaje de recomendación\n",
    "        texto_recomendacion = f\"Debido a que te gusta el juego {Id_item} : {nombre_juego}, estoy seguro que te gustarán los siguientes juegos \"\n",
    "                \n",
    "        # Crear y devolver el resultado\n",
    "        result = {\n",
    "            'mensaje': texto_recomendacion.strip(),\n",
    "            'Recomendaciones de juegos': df_resultado['App_name'][1:6].tolist()\n",
    "        }\n",
    "\n",
    "        return result\n",
    "\n",
    "    except Exception as e:\n",
    "        return {'error': str(e)}\n",
    "\n",
    "# Ejemplo de uso\n",
    "recomendaciones = recomendacion_juego(22000)  # Cambié el Id_item a string para coincidir con el formato\n",
    "print(recomendaciones)\n"
   ]
  },
  {
   "cell_type": "code",
   "execution_count": 16,
   "metadata": {},
   "outputs": [
    {
     "name": "stdout",
     "output_type": "stream",
     "text": [
      "Precisión del modelo: 0.9061971397816393\n"
     ]
    }
   ],
   "source": [
    "# Seleccionar características (X) y la etiqueta (y)\n",
    "X = data_random_forest[['Id_item', 'Release_date', 'Price', 'Posted', 'Sentiment_analysis', 'Playtime_forever']]\n",
    "y = data_random_forest['Recommend']\n",
    "\n",
    "# Divide el conjunto de datos en conjuntos de entrenamiento y prueba\n",
    "X_train, X_test, y_train, y_test = train_test_split(X, y, test_size=0.2, random_state=42)\n",
    "\n",
    "# Crea y entrena el modelo\n",
    "modelo = RandomForestClassifier(n_estimators=100, random_state=42)\n",
    "modelo.fit(X_train, y_train)\n",
    "\n",
    "# Realiza predicciones en el conjunto de prueba\n",
    "predicciones = modelo.predict(X_test)\n",
    "\n",
    "# Evalúa la precisión del modelo\n",
    "precision = accuracy_score(y_test, predicciones)\n",
    "print(f'Precisión del modelo: {precision}')\n",
    "\n"
   ]
  },
  {
   "cell_type": "code",
   "execution_count": 38,
   "metadata": {},
   "outputs": [
    {
     "name": "stdout",
     "output_type": "stream",
     "text": [
      "Recomendaciones para el usuario DemonPieOfTheNight:\n",
      "                      App_name  Release_date  Price  Sentiment_analysis  \\\n",
      "1                     Altitude        2009.0   0.00                   1   \n",
      "2       Swords and Soldiers HD        2010.0   9.99                   2   \n",
      "3                       Portal        2007.0   9.99                   1   \n",
      "4  Sid Meier's Civilization® V        2010.0  29.99                   2   \n",
      "5             Ms. Splosion Man        2013.0   9.99                   2   \n",
      "\n",
      "   Playtime_forever  \n",
      "1               931  \n",
      "2               345  \n",
      "3                95  \n",
      "4              1862  \n",
      "5               334  \n"
     ]
    }
   ],
   "source": [
    "def recomendacion_usuario(id_usuario):\n",
    "    # Verifica si el usuario existe en el conjunto de datos\n",
    "    if id_usuario not in data_random_forest['Id_user'].values:\n",
    "        print(f'El usuario {id_usuario} no existe en el conjunto de datos.')\n",
    "        return None\n",
    "\n",
    "    # Filtra el conjunto de datos para obtener las características de juegos no etiquetados para el usuario\n",
    "    juegos_sin_etiqueta = data_random_forest[data_random_forest['Id_user'] == id_usuario][['Id_item', 'Release_date', 'Price', 'Posted', 'Sentiment_analysis', 'Playtime_forever']]\n",
    "\n",
    "    # Asegúrate de que haya al menos un juego sin etiquetar para el usuario\n",
    "    if juegos_sin_etiqueta.empty:\n",
    "        print(f'No hay juegos sin etiquetar para el usuario {id_usuario}.')\n",
    "        return None\n",
    "\n",
    "    # Utiliza el modelo entrenado para predecir las preferencias del usuario para los juegos sin etiquetar\n",
    "    preferencias_usuario = modelo.predict(juegos_sin_etiqueta)\n",
    "\n",
    "    # Combina las predicciones con la información del juego y selecciona los 5 mejores\n",
    "    juegos_sin_etiqueta['Recommend'] = preferencias_usuario\n",
    "    juegos_recomendados = juegos_sin_etiqueta.sort_values(by='Recommend', ascending=False).head(5)\n",
    "\n",
    "    # Realiza una fusión con el conjunto de datos original para obtener el nombre del juego\n",
    "    juegos_recomendados = pd.merge(juegos_recomendados, data_random_forest[['Id_item', 'App_name']], on='Id_item', how='left')\n",
    "\n",
    "    # Elimina duplicados basados en 'App_name'\n",
    "    juegos_recomendados = juegos_recomendados.drop_duplicates(subset='App_name')\n",
    "\n",
    "    # Reinicia el índice y luego incrementa en 1\n",
    "    juegos_recomendados.reset_index(drop=True, inplace=True)\n",
    "    juegos_recomendados.index += 1\n",
    "\n",
    "    return juegos_recomendados[['App_name','Release_date','Price','Sentiment_analysis','Playtime_forever']]\n",
    "\n",
    "# Llama a la función con el ID de usuario para obtener las recomendaciones\n",
    "id_usuario = 'DemonPieOfTheNight'  # Reemplaza con el ID real de usuario que quieras obtener recomendaciones\n",
    "recomendaciones = recomendacion_usuario(id_usuario)\n",
    "\n",
    "# Imprime las recomendaciones\n",
    "if recomendaciones is not None:\n",
    "    print(f'Recomendaciones para el usuario {id_usuario}:\\n{recomendaciones}')\n",
    "\n",
    "\n"
   ]
  }
 ],
 "metadata": {
  "kernelspec": {
   "display_name": "FastApi",
   "language": "python",
   "name": "python3"
  },
  "language_info": {
   "codemirror_mode": {
    "name": "ipython",
    "version": 3
   },
   "file_extension": ".py",
   "mimetype": "text/x-python",
   "name": "python",
   "nbconvert_exporter": "python",
   "pygments_lexer": "ipython3",
   "version": "3.11.3"
  }
 },
 "nbformat": 4,
 "nbformat_minor": 2
}
