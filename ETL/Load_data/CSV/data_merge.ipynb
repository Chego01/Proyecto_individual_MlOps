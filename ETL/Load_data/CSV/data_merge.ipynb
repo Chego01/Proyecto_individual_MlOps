{
 "cells": [
  {
   "cell_type": "markdown",
   "metadata": {},
   "source": [
    "Merge Datasets "
   ]
  },
  {
   "cell_type": "code",
   "execution_count": 114,
   "metadata": {},
   "outputs": [],
   "source": [
    "#Importamos las librerias \n",
    "import pandas as pd "
   ]
  },
  {
   "cell_type": "code",
   "execution_count": 115,
   "metadata": {},
   "outputs": [],
   "source": [
    "#Convierte en datadrame a cada uno de los datasets anteriormente cargados\n",
    "data_games = pd.read_csv('Games_output.csv')\n",
    "data_items = pd.read_csv('User_items_output.csv')\n",
    "data_reviews = pd.read_csv('User_reviews_output.csv')"
   ]
  },
  {
   "cell_type": "code",
   "execution_count": 116,
   "metadata": {},
   "outputs": [
    {
     "data": {
      "text/html": [
       "<div>\n",
       "<style scoped>\n",
       "    .dataframe tbody tr th:only-of-type {\n",
       "        vertical-align: middle;\n",
       "    }\n",
       "\n",
       "    .dataframe tbody tr th {\n",
       "        vertical-align: top;\n",
       "    }\n",
       "\n",
       "    .dataframe thead th {\n",
       "        text-align: right;\n",
       "    }\n",
       "</style>\n",
       "<table border=\"1\" class=\"dataframe\">\n",
       "  <thead>\n",
       "    <tr style=\"text-align: right;\">\n",
       "      <th></th>\n",
       "      <th>Id_item</th>\n",
       "      <th>Id_user</th>\n",
       "      <th>Playtime_forever</th>\n",
       "      <th>Id</th>\n",
       "    </tr>\n",
       "  </thead>\n",
       "  <tbody>\n",
       "    <tr>\n",
       "      <th>0</th>\n",
       "      <td>10</td>\n",
       "      <td>76561197970982479</td>\n",
       "      <td>6.0</td>\n",
       "      <td>1076561197970982479</td>\n",
       "    </tr>\n",
       "    <tr>\n",
       "      <th>1</th>\n",
       "      <td>30</td>\n",
       "      <td>76561197970982479</td>\n",
       "      <td>7.0</td>\n",
       "      <td>3076561197970982479</td>\n",
       "    </tr>\n",
       "    <tr>\n",
       "      <th>2</th>\n",
       "      <td>300</td>\n",
       "      <td>76561197970982479</td>\n",
       "      <td>4733.0</td>\n",
       "      <td>30076561197970982479</td>\n",
       "    </tr>\n",
       "    <tr>\n",
       "      <th>3</th>\n",
       "      <td>240</td>\n",
       "      <td>76561197970982479</td>\n",
       "      <td>1853.0</td>\n",
       "      <td>24076561197970982479</td>\n",
       "    </tr>\n",
       "    <tr>\n",
       "      <th>4</th>\n",
       "      <td>3830</td>\n",
       "      <td>76561197970982479</td>\n",
       "      <td>333.0</td>\n",
       "      <td>383076561197970982479</td>\n",
       "    </tr>\n",
       "    <tr>\n",
       "      <th>...</th>\n",
       "      <td>...</td>\n",
       "      <td>...</td>\n",
       "      <td>...</td>\n",
       "      <td>...</td>\n",
       "    </tr>\n",
       "    <tr>\n",
       "      <th>3285241</th>\n",
       "      <td>304930</td>\n",
       "      <td>76561198329548331</td>\n",
       "      <td>677.0</td>\n",
       "      <td>30493076561198329548331</td>\n",
       "    </tr>\n",
       "    <tr>\n",
       "      <th>3285242</th>\n",
       "      <td>227940</td>\n",
       "      <td>76561198329548331</td>\n",
       "      <td>43.0</td>\n",
       "      <td>22794076561198329548331</td>\n",
       "    </tr>\n",
       "    <tr>\n",
       "      <th>3285243</th>\n",
       "      <td>388490</td>\n",
       "      <td>76561198329548331</td>\n",
       "      <td>3.0</td>\n",
       "      <td>38849076561198329548331</td>\n",
       "    </tr>\n",
       "    <tr>\n",
       "      <th>3285244</th>\n",
       "      <td>521570</td>\n",
       "      <td>76561198329548331</td>\n",
       "      <td>4.0</td>\n",
       "      <td>52157076561198329548331</td>\n",
       "    </tr>\n",
       "    <tr>\n",
       "      <th>3285245</th>\n",
       "      <td>519140</td>\n",
       "      <td>76561198329548331</td>\n",
       "      <td>3.0</td>\n",
       "      <td>51914076561198329548331</td>\n",
       "    </tr>\n",
       "  </tbody>\n",
       "</table>\n",
       "<p>3285246 rows × 4 columns</p>\n",
       "</div>"
      ],
      "text/plain": [
       "        Id_item            Id_user  Playtime_forever                       Id\n",
       "0            10  76561197970982479               6.0      1076561197970982479\n",
       "1            30  76561197970982479               7.0      3076561197970982479\n",
       "2           300  76561197970982479            4733.0     30076561197970982479\n",
       "3           240  76561197970982479            1853.0     24076561197970982479\n",
       "4          3830  76561197970982479             333.0    383076561197970982479\n",
       "...         ...                ...               ...                      ...\n",
       "3285241  304930  76561198329548331             677.0  30493076561198329548331\n",
       "3285242  227940  76561198329548331              43.0  22794076561198329548331\n",
       "3285243  388490  76561198329548331               3.0  38849076561198329548331\n",
       "3285244  521570  76561198329548331               4.0  52157076561198329548331\n",
       "3285245  519140  76561198329548331               3.0  51914076561198329548331\n",
       "\n",
       "[3285246 rows x 4 columns]"
      ]
     },
     "execution_count": 116,
     "metadata": {},
     "output_type": "execute_result"
    }
   ],
   "source": [
    "#Selecciona las columnas necesarias del dataset \n",
    "data_items = data_items[['Id_item','Id_user','Playtime_forever']]\n",
    "#Transformamos la columna a tipo string y procedemos a anexar o juntar dos de las columnas en una sola \n",
    "data_items['Id_item'] = data_items['Id_item'].astype(str)\n",
    "data_games['Id_item'] = data_games['Id_item'].astype(str)\n",
    "data_items['Id'] = data_items['Id_item']+ data_items['Id_user']\n",
    "data_reviews['Id_item'] = data_reviews['Id_item'].astype(str)\n",
    "data_reviews['Id'] = data_reviews['Id_item']+ data_reviews['Id_user']\n",
    "data_items"
   ]
  },
  {
   "cell_type": "code",
   "execution_count": 117,
   "metadata": {},
   "outputs": [],
   "source": [
    "#Realiza un merge a dos datasets \n",
    "data_merged = data_reviews.merge(data_games,on='Id_item',how='left')\n",
    "data_merged.dropna(inplace=True)\n",
    "#Realiza un 2do merge para terminar de crear el datasets final\n",
    "data = data_items.merge(data_merged,on='Id')"
   ]
  },
  {
   "cell_type": "code",
   "execution_count": 118,
   "metadata": {},
   "outputs": [
    {
     "data": {
      "text/plain": [
       "0        2009\n",
       "1        2009\n",
       "2        2013\n",
       "3        2013\n",
       "4        2011\n",
       "         ... \n",
       "32509    2012\n",
       "32510    2012\n",
       "32511    2003\n",
       "32512    2012\n",
       "32513    2012\n",
       "Name: Release_date, Length: 32514, dtype: int32"
      ]
     },
     "execution_count": 118,
     "metadata": {},
     "output_type": "execute_result"
    }
   ],
   "source": [
    "#Renombramos las columnas del datasets para poder diferencias las columnas del dataset final y eliminamos columnas no necesarias \n",
    "data = data.rename(columns={'Id_user_x':'Id_user','Id_item_x':'Id_item','Year_y':'Release_date','Year_x':'Posted'})\n",
    "data.drop('Id_user_y',axis='columns',inplace=True)\n",
    "data.drop('Id_item_y',axis='columns',inplace=True)\n",
    "data['Playtime_forever'] = data['Playtime_forever'].astype(int)\n",
    "data['Release_date'].astype(int)"
   ]
  },
  {
   "cell_type": "code",
   "execution_count": 120,
   "metadata": {},
   "outputs": [],
   "source": [
    "#Selecciona las columnas necesarias \n",
    "data = data[['Id','Id_user','Id_item','App_name','Genres','Developer','Release_date','Price','Recommend','Posted','Sentiment_analysis','Playtime_forever']]"
   ]
  },
  {
   "cell_type": "code",
   "execution_count": 121,
   "metadata": {},
   "outputs": [
    {
     "name": "stdout",
     "output_type": "stream",
     "text": [
      "<class 'pandas.core.frame.DataFrame'>\n",
      "RangeIndex: 32514 entries, 0 to 32513\n",
      "Data columns (total 12 columns):\n",
      " #   Column              Non-Null Count  Dtype  \n",
      "---  ------              --------------  -----  \n",
      " 0   Id                  32514 non-null  object \n",
      " 1   Id_user             32514 non-null  object \n",
      " 2   Id_item             32514 non-null  object \n",
      " 3   App_name            32514 non-null  object \n",
      " 4   Genres              32514 non-null  object \n",
      " 5   Developer           32514 non-null  object \n",
      " 6   Release_date        32514 non-null  float64\n",
      " 7   Price               32514 non-null  float64\n",
      " 8   Recommend           32514 non-null  int64  \n",
      " 9   Posted              32514 non-null  int64  \n",
      " 10  Sentiment_analysis  32514 non-null  int64  \n",
      " 11  Playtime_forever    32514 non-null  int32  \n",
      "dtypes: float64(2), int32(1), int64(3), object(6)\n",
      "memory usage: 2.9+ MB\n"
     ]
    }
   ],
   "source": [
    "data.info()"
   ]
  },
  {
   "cell_type": "code",
   "execution_count": 128,
   "metadata": {},
   "outputs": [],
   "source": [
    "#Exportamos el dataset final a archivo csv\n",
    "data.to_csv('data_merged.csv',index=False)\n",
    "data.to_csv(r'C:\\Users\\User\\PI_ML_OPS\\EDA\\data_merged.csv',index=False)"
   ]
  }
 ],
 "metadata": {
  "kernelspec": {
   "display_name": "Python 3",
   "language": "python",
   "name": "python3"
  },
  "language_info": {
   "codemirror_mode": {
    "name": "ipython",
    "version": 3
   },
   "file_extension": ".py",
   "mimetype": "text/x-python",
   "name": "python",
   "nbconvert_exporter": "python",
   "pygments_lexer": "ipython3",
   "version": "3.11.3"
  }
 },
 "nbformat": 4,
 "nbformat_minor": 2
}
